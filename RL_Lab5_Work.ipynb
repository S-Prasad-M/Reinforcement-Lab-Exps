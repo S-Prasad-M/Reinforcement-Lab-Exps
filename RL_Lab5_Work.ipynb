{
 "cells": [
  {
   "cell_type": "markdown",
   "id": "78eeb810",
   "metadata": {},
   "source": [
    "<center>\n",
    "\n",
    "# **22AIE401 - Reinforcement Learning**  \n",
    "# **Lab 5**  \n",
    "\n",
    "</center>\n",
    "\n",
    "### Team Members:\n",
    "- Guruprasath M R - AIE22015  \n",
    "- Rudraksh Mohanty - AIE22046  \n",
    "- Shree Prasad M - AIE22050  \n",
    "- Tharun Kaarthik G K - AIE22062  \n",
    "\n",
    "---\n",
    "\n",
    "### Objective:\n",
    "To develop a reinforcement learning agent that uses Temporal Difference (TD) methods specifically Q-\n",
    "Learning, to learn an optimal elevator control policy in a smart building. The goal is to minimize\n",
    "passenger wait times, energy consumption, and unnecessary elevator movements while efficiently\n",
    "responding to floor requests.\n",
    "\n",
    "---\n",
    "\n",
    "### Problem Statement:\n",
    "In modern smart buildings, elevators must handle numerous passenger requests coming from different\n",
    "floors at different times. A poorly optimized elevator results in:\n",
    "- Passenger wait time,\n",
    "- Energy usage (idle movement),\n",
    "- Unnecessary direction switches.\n",
    "\n",
    "Problem Description:\n",
    "You are tasked with designing an elevator agent that learns how to:\n",
    "- Serve passenger requests on any of 5 floors (0 to 4)\n",
    "- Decide at each time step whether to go up, go down, or stay\n",
    "- Balance exploration and exploitation using ε-greedy policy\n",
    "- Adapt over time by learning from rewards (delivered or missed requests)\n",
    "\n",
    "Each episode starts with:\n",
    "- The elevator at a random floor.\n",
    "- A passenger request at another random floor.\n",
    "\n",
    "The agent must:\n",
    "- Learn the best action in each state (elevator_floor, request_floor) to minimize time and penalty.\n",
    "- Train over 10,000+ episodes and eventually predict the best action without being told the model\n",
    "  dynamics.\n",
    "\n",
    "\n",
    "\n",
    "---\n"
   ]
  },
  {
   "cell_type": "markdown",
   "id": "c96c0207",
   "metadata": {},
   "source": [
    "## Original Code"
   ]
  },
  {
   "cell_type": "code",
   "execution_count": 1,
   "id": "2a880712",
   "metadata": {},
   "outputs": [],
   "source": [
    "import numpy as np\n",
    "import random\n",
    "import matplotlib.pyplot as plt"
   ]
  },
  {
   "cell_type": "code",
   "execution_count": null,
   "id": "d41cdaa7",
   "metadata": {},
   "outputs": [],
   "source": []
  }
 ],
 "metadata": {
  "kernelspec": {
   "display_name": "Python 3",
   "language": "python",
   "name": "python3"
  },
  "language_info": {
   "codemirror_mode": {
    "name": "ipython",
    "version": 3
   },
   "file_extension": ".py",
   "mimetype": "text/x-python",
   "name": "python",
   "nbconvert_exporter": "python",
   "pygments_lexer": "ipython3",
   "version": "3.11.1"
  }
 },
 "nbformat": 4,
 "nbformat_minor": 5
}
